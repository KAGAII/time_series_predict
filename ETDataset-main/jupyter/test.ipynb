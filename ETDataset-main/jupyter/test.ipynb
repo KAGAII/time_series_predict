{
 "cells": [
  {
   "cell_type": "code",
   "execution_count": 1,
   "metadata": {
    "collapsed": true
   },
   "outputs": [],
   "source": [
    "import pandas as pd\n",
    "import os\n",
    "from sklearn.model_selection import train_test_split\n",
    "from sklearn.preprocessing import StandardScaler, MinMaxScaler\n",
    "from torch.utils.data import TensorDataset\n",
    "from torch.utils.data import Dataset, DataLoader\n",
    "import torch\n",
    "import torch.nn as nn\n",
    "import numpy as np\n",
    "import math"
   ]
  },
  {
   "cell_type": "code",
   "execution_count": 2,
   "outputs": [],
   "source": [
    "class my_dataset(Dataset):\n",
    "\n",
    "    def __init__(self,data,type):\n",
    "        '''\n",
    "        :param data: 数据\n",
    "        :param type:训练集、测试集、验证集\n",
    "        '''\n",
    "        self.type = type\n",
    "        self.data = data\n",
    "\n",
    "    def __getitem__(self,idx):\n",
    "        # 下标来调用数据\n",
    "        return self.data[0][idx],self.data[1][idx]\n",
    "\n",
    "    def __len__(self):\n",
    "        return len(self.data[0])\n",
    "\n",
    "\n",
    "def concat_Data(Data,scaler_model):\n",
    "    # 将data合并\n",
    "    lenght = [0,len(Data[0])]\n",
    "    Data_total = Data[0]\n",
    "    for i in Data[1:]:\n",
    "        Data_total = pd.concat([Data_total, i.copy()])\n",
    "        lenght.append(len(i)+lenght[-1])\n",
    "    # 合并之后进行标准化\n",
    "    Data_total = scaler_model.fit_transform(np.array(Data_total))\n",
    "    # 标准化之后在进行拆分\n",
    "    df_all = []\n",
    "    for i in range(len(lenght)-1):\n",
    "        print(i)\n",
    "        print(lenght[i],lenght[i+1])\n",
    "        df_all.append(Data_total[lenght[i]:lenght[i+1]-1])\n",
    "    return df_all,scaler_model\n",
    "\n",
    "\n",
    "def data_process(root_path, input_size, output_size, timestep,scaler_model):\n",
    "    '''\n",
    "    :param root_path: 根目录\n",
    "    :param input_size:输入的维度，默认为96\n",
    "    :param output_size:每个样本的预测维度，默认为96，后面会改成336\n",
    "    :param timestep: 时间步，滑动窗口\n",
    "    '''\n",
    "    # 获取对应类型的数据\n",
    "    data_x = []\n",
    "    data_y = []\n",
    "    files = os.listdir(root_path)\n",
    "    files_csv = sorted([f for f in files if f.endswith('.csv')])\n",
    "    df_total = []\n",
    "    for file in files_csv:\n",
    "        df = pd.read_csv(os.path.join(root_path, file))  # 得到每个文件数据\n",
    "        df = df.drop('date', axis=1)\n",
    "        df_total.append(df)\n",
    "    # 得到了所有数据，开始归一化\n",
    "    df_all,scaler_model = concat_Data(df_total,scaler_model)\n",
    "    for df in df_all:\n",
    "        # 得到样本以及对应的数据集\n",
    "        for index in range(0, len(df) - input_size - output_size, timestep):\n",
    "            data_x.append(df[index:index + input_size])\n",
    "            data_y.append(df[index + input_size:index + input_size + output_size])\n",
    "    print(len(data_x))\n",
    "    print(len(data_y))\n",
    "    # 得到样本之后划分数据集\n",
    "    # 每次的调用的随机种子不同，测试集永远不变，变得是训练集和验证集的数据\n",
    "    train_x_set, test_x_set = train_test_split(data_x, test_size=0.2, random_state=42)\n",
    "    train_y_set, test_y_set = train_test_split(data_y, test_size=0.2, random_state=42)\n",
    "    # 然后在对训练集进行划分\n",
    "    seed = np.random.randint(1,50,1)[0]\n",
    "    train_x_set, valid_x_set = train_test_split(train_x_set, test_size=0.2, random_state=42)\n",
    "    train_y_set, valid_y_set = train_test_split(train_y_set, test_size=0.2, random_state=42)\n",
    "    train_x_set = torch.tensor(np.array(train_x_set)).to(torch.float32)\n",
    "    train_y_set = torch.tensor(np.array(train_y_set)).to(torch.float32)\n",
    "    test_x_set = torch.tensor(np.array(test_x_set)).to(torch.float32)\n",
    "    test_y_set = torch.tensor(np.array(test_y_set)).to(torch.float32)\n",
    "    valid_x_set = torch.tensor(np.array(valid_x_set)).to(torch.float32)\n",
    "    valid_y_set = torch.tensor(np.array(valid_y_set)).to(torch.float32)\n",
    "    # 得到不同的数据集\n",
    "    dataset_train = my_dataset([train_x_set,train_y_set],'train')\n",
    "    dataset_test = my_dataset([test_x_set, test_y_set],'test')\n",
    "    dataset_valid = my_dataset([valid_x_set, valid_y_set],'valid')\n",
    "    return dataset_train,dataset_test,dataset_valid"
   ],
   "metadata": {
    "collapsed": false
   }
  },
  {
   "cell_type": "code",
   "execution_count": 4,
   "outputs": [],
   "source": [
    "scaler_model = MinMaxScaler()"
   ],
   "metadata": {
    "collapsed": false
   }
  },
  {
   "cell_type": "code",
   "execution_count": 5,
   "outputs": [
    {
     "name": "stdout",
     "output_type": "stream",
     "text": [
      "0\n",
      "0 17420\n",
      "1\n",
      "17420 34840\n",
      "2\n",
      "34840 104520\n",
      "3\n",
      "104520 174200\n",
      "173428\n",
      "173428\n"
     ]
    }
   ],
   "source": [
    "dataset_train,dataset_test,dataset_valid = data_process('ETT-small',96,96,1,scaler_model)"
   ],
   "metadata": {
    "collapsed": false
   }
  },
  {
   "cell_type": "code",
   "execution_count": 6,
   "outputs": [],
   "source": [
    "# 获得gpu\n",
    "def get_device():\n",
    "    if torch.cuda.is_available():\n",
    "        device = torch.device('cuda')\n",
    "    else:\n",
    "        device = torch.device('cpu')\n",
    "    print(f'当前设备为{device}')\n",
    "    return device"
   ],
   "metadata": {
    "collapsed": false
   }
  },
  {
   "cell_type": "code",
   "execution_count": 7,
   "outputs": [
    {
     "name": "stdout",
     "output_type": "stream",
     "text": [
      "当前设备为cuda\n"
     ]
    },
    {
     "data": {
      "text/plain": "device(type='cuda')"
     },
     "execution_count": 7,
     "metadata": {},
     "output_type": "execute_result"
    }
   ],
   "source": [
    "get_device()"
   ],
   "metadata": {
    "collapsed": false
   }
  },
  {
   "cell_type": "code",
   "execution_count": null,
   "outputs": [],
   "source": [],
   "metadata": {
    "collapsed": false
   }
  }
 ],
 "metadata": {
  "kernelspec": {
   "name": "pytorch",
   "language": "python",
   "display_name": "python_3.10(GPU)"
  },
  "language_info": {
   "codemirror_mode": {
    "name": "ipython",
    "version": 2
   },
   "file_extension": ".py",
   "mimetype": "text/x-python",
   "name": "python",
   "nbconvert_exporter": "python",
   "pygments_lexer": "ipython2",
   "version": "2.7.6"
  }
 },
 "nbformat": 4,
 "nbformat_minor": 0
}
